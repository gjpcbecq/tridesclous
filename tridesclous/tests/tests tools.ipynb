{
 "cells": [
  {
   "cell_type": "code",
   "execution_count": 6,
   "metadata": {
    "collapsed": false
   },
   "outputs": [],
   "source": [
    "import imp\n",
    "import tridesclous as tdc\n",
    "import numpy as np"
   ]
  },
  {
   "cell_type": "code",
   "execution_count": 7,
   "metadata": {
    "collapsed": false
   },
   "outputs": [
    {
     "name": "stdout",
     "output_type": "stream",
     "text": [
      "             0         1\n",
      "0.00  1.764052  0.400157\n",
      "0.01  0.978738  2.240893\n",
      "0.02  1.867558 -0.977278\n",
      "0.03  0.950088 -0.151357\n",
      "0.04 -0.103219  0.410599\n",
      "0.05  0.144044  1.454274\n",
      "0.06  0.761038  0.121675\n",
      "0.07  0.443863  0.333674\n",
      "0.08  1.494079 -0.205158\n",
      "0.09  0.313068 -0.854096\n",
      "0.10 -2.552990  0.653619\n"
     ]
    }
   ],
   "source": [
    "np.random.seed(0)\n",
    "x = np.random.randn(1000, 2)\n",
    "t_start = 0\n",
    "sampling_rate = 100\n",
    "signals = tdc.tools.get_data_frame(x, t_start, sampling_rate, np.arange(2))\n",
    "times = signals.index.to_native_types()\n",
    "print(signals[0:0.1])"
   ]
  },
  {
   "cell_type": "code",
   "execution_count": 19,
   "metadata": {
    "collapsed": false
   },
   "outputs": [],
   "source": [
    "imp.reload(tdc.tools)\n",
    "np.random.seed(0)\n",
    "x = np.random.randn(1000, 2)\n",
    "sigs = tdc.tools.get_data_frame(x, 0, 100, np.arange(2))\n",
    "normed_sigs = tdc.normalize_signals(sigs)\n",
    "deriv_sigs = tdc.derivative_signals(sigs)\n",
    "retified_sigs = tdc.rectify_signals(normed_sigs, threshold = -4)\n",
    "filt_sigs = tdc.tools.filter_signal(sigs)"
   ]
  },
  {
   "cell_type": "code",
   "execution_count": null,
   "metadata": {
    "collapsed": true
   },
   "outputs": [],
   "source": []
  }
 ],
 "metadata": {
  "kernelspec": {
   "display_name": "Python 3",
   "language": "python",
   "name": "python3"
  },
  "language_info": {
   "codemirror_mode": {
    "name": "ipython",
    "version": 3
   },
   "file_extension": ".py",
   "mimetype": "text/x-python",
   "name": "python",
   "nbconvert_exporter": "python",
   "pygments_lexer": "ipython3",
   "version": "3.5.1"
  }
 },
 "nbformat": 4,
 "nbformat_minor": 0
}
